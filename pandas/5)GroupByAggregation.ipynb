{
 "cells": [
  {
   "cell_type": "code",
   "execution_count": 2,
   "id": "6021d940-7f3f-4585-ab47-f26c7d25574f",
   "metadata": {},
   "outputs": [],
   "source": [
    "import numpy as np\n",
    "import pandas as pd "
   ]
  },
  {
   "cell_type": "code",
   "execution_count": null,
   "id": "229ca3fd-264a-43cd-b9b1-20d2ed64aeee",
   "metadata": {},
   "outputs": [],
   "source": [
    "#group by"
   ]
  },
  {
   "cell_type": "code",
   "execution_count": 4,
   "id": "1b7217dc-eb53-4337-bf52-f7e3184d1d1f",
   "metadata": {},
   "outputs": [],
   "source": [
    "data = {\n",
    "    'Category': ['A', 'B', 'A', 'B', 'A', 'B', 'A', 'B'],\n",
    "    'Store': ['S1', 'S1', 'S2', 'S2', 'S1', 'S2', 'S2', 'S1'],\n",
    "    'Sales': [100, 200, 150, 250, 120, 180, 200, 300],\n",
    "    'Quantity': [10, 15, 12, 18, 8, 20, 15, 25],\n",
    "    'Date': pd.date_range('2023-01-01', periods=8)\n",
    "}\n",
    "df = pd.DataFrame(data)"
   ]
  },
  {
   "cell_type": "code",
   "execution_count": 6,
   "id": "7cec9707-69d2-4516-980f-ff5814c023ed",
   "metadata": {},
   "outputs": [
    {
     "data": {
      "text/html": [
       "<div>\n",
       "<style scoped>\n",
       "    .dataframe tbody tr th:only-of-type {\n",
       "        vertical-align: middle;\n",
       "    }\n",
       "\n",
       "    .dataframe tbody tr th {\n",
       "        vertical-align: top;\n",
       "    }\n",
       "\n",
       "    .dataframe thead th {\n",
       "        text-align: right;\n",
       "    }\n",
       "</style>\n",
       "<table border=\"1\" class=\"dataframe\">\n",
       "  <thead>\n",
       "    <tr style=\"text-align: right;\">\n",
       "      <th></th>\n",
       "      <th>Category</th>\n",
       "      <th>Store</th>\n",
       "      <th>Sales</th>\n",
       "      <th>Quantity</th>\n",
       "      <th>Date</th>\n",
       "    </tr>\n",
       "  </thead>\n",
       "  <tbody>\n",
       "    <tr>\n",
       "      <th>0</th>\n",
       "      <td>A</td>\n",
       "      <td>S1</td>\n",
       "      <td>100</td>\n",
       "      <td>10</td>\n",
       "      <td>2023-01-01</td>\n",
       "    </tr>\n",
       "    <tr>\n",
       "      <th>1</th>\n",
       "      <td>B</td>\n",
       "      <td>S1</td>\n",
       "      <td>200</td>\n",
       "      <td>15</td>\n",
       "      <td>2023-01-02</td>\n",
       "    </tr>\n",
       "    <tr>\n",
       "      <th>2</th>\n",
       "      <td>A</td>\n",
       "      <td>S2</td>\n",
       "      <td>150</td>\n",
       "      <td>12</td>\n",
       "      <td>2023-01-03</td>\n",
       "    </tr>\n",
       "    <tr>\n",
       "      <th>3</th>\n",
       "      <td>B</td>\n",
       "      <td>S2</td>\n",
       "      <td>250</td>\n",
       "      <td>18</td>\n",
       "      <td>2023-01-04</td>\n",
       "    </tr>\n",
       "    <tr>\n",
       "      <th>4</th>\n",
       "      <td>A</td>\n",
       "      <td>S1</td>\n",
       "      <td>120</td>\n",
       "      <td>8</td>\n",
       "      <td>2023-01-05</td>\n",
       "    </tr>\n",
       "    <tr>\n",
       "      <th>5</th>\n",
       "      <td>B</td>\n",
       "      <td>S2</td>\n",
       "      <td>180</td>\n",
       "      <td>20</td>\n",
       "      <td>2023-01-06</td>\n",
       "    </tr>\n",
       "    <tr>\n",
       "      <th>6</th>\n",
       "      <td>A</td>\n",
       "      <td>S2</td>\n",
       "      <td>200</td>\n",
       "      <td>15</td>\n",
       "      <td>2023-01-07</td>\n",
       "    </tr>\n",
       "    <tr>\n",
       "      <th>7</th>\n",
       "      <td>B</td>\n",
       "      <td>S1</td>\n",
       "      <td>300</td>\n",
       "      <td>25</td>\n",
       "      <td>2023-01-08</td>\n",
       "    </tr>\n",
       "  </tbody>\n",
       "</table>\n",
       "</div>"
      ],
      "text/plain": [
       "  Category Store  Sales  Quantity       Date\n",
       "0        A    S1    100        10 2023-01-01\n",
       "1        B    S1    200        15 2023-01-02\n",
       "2        A    S2    150        12 2023-01-03\n",
       "3        B    S2    250        18 2023-01-04\n",
       "4        A    S1    120         8 2023-01-05\n",
       "5        B    S2    180        20 2023-01-06\n",
       "6        A    S2    200        15 2023-01-07\n",
       "7        B    S1    300        25 2023-01-08"
      ]
     },
     "execution_count": 6,
     "metadata": {},
     "output_type": "execute_result"
    }
   ],
   "source": [
    "df"
   ]
  },
  {
   "cell_type": "code",
   "execution_count": 8,
   "id": "b3a073e8-b37b-4418-9acc-745c1a96c5e7",
   "metadata": {},
   "outputs": [
    {
     "name": "stdout",
     "output_type": "stream",
     "text": [
      "A\n",
      "0    100\n",
      "2    150\n",
      "4    120\n",
      "6    200\n",
      "Name: Sales, dtype: int64\n",
      "B\n",
      "1    200\n",
      "3    250\n",
      "5    180\n",
      "7    300\n",
      "Name: Sales, dtype: int64\n"
     ]
    }
   ],
   "source": [
    "# Group by Category and calculate the sum of Sales\n",
    "cat = df.groupby(\"Category\")[\"Sales\"]\n",
    "cat\n",
    "for i,v in cat:\n",
    "    print(i)\n",
    "    print(v)"
   ]
  },
  {
   "cell_type": "code",
   "execution_count": 10,
   "id": "556c4182-f055-470e-b0a4-0fc9a5f46f37",
   "metadata": {},
   "outputs": [
    {
     "data": {
      "text/plain": [
       "Category\n",
       "A    570\n",
       "B    930\n",
       "Name: Sales, dtype: int64"
      ]
     },
     "execution_count": 10,
     "metadata": {},
     "output_type": "execute_result"
    }
   ],
   "source": [
    "# Group by Category and calculate the sum of Sales\n",
    "cat = df.groupby(\"Category\")[\"Sales\"].sum()\n",
    "cat"
   ]
  },
  {
   "cell_type": "code",
   "execution_count": 12,
   "id": "992d8ebe-cf8a-4b11-9004-f95f9b87a7ff",
   "metadata": {},
   "outputs": [
    {
     "data": {
      "text/plain": [
       "Store\n",
       "S1    720\n",
       "S2    780\n",
       "Name: Sales, dtype: int64"
      ]
     },
     "execution_count": 12,
     "metadata": {},
     "output_type": "execute_result"
    }
   ],
   "source": [
    "# Group by Store and calculate the sum of Sales\n",
    "store =df.groupby(\"Store\")[\"Sales\"].sum()\n",
    "store"
   ]
  },
  {
   "cell_type": "code",
   "execution_count": 14,
   "id": "12c93c4b-0595-4c0f-94f9-b7212f2f61f0",
   "metadata": {},
   "outputs": [
    {
     "data": {
      "text/plain": [
       "Category  Store\n",
       "A         S1       220\n",
       "          S2       350\n",
       "B         S1       500\n",
       "          S2       430\n",
       "Name: Sales, dtype: int64"
      ]
     },
     "execution_count": 14,
     "metadata": {},
     "output_type": "execute_result"
    }
   ],
   "source": [
    "# Group by multiple columns\n",
    "# Group by Category and Store\n",
    "cat = df.groupby([\"Category\",\"Store\"])[\"Sales\"].sum()\n",
    "cat"
   ]
  },
  {
   "cell_type": "code",
   "execution_count": 16,
   "id": "7d9dcfb4-2b7b-49bc-b381-6d4c1a99da16",
   "metadata": {},
   "outputs": [
    {
     "data": {
      "text/plain": [
       "187.5"
      ]
     },
     "execution_count": 16,
     "metadata": {},
     "output_type": "execute_result"
    }
   ],
   "source": [
    "df[\"Sales\"].mean()\n",
    "\"\"\" min max count std\"\"\""
   ]
  },
  {
   "cell_type": "code",
   "execution_count": 18,
   "id": "b68aeb80-37ab-45d9-8165-f4ea0fc8afdb",
   "metadata": {},
   "outputs": [
    {
     "data": {
      "text/plain": [
       "190.0"
      ]
     },
     "execution_count": 18,
     "metadata": {},
     "output_type": "execute_result"
    }
   ],
   "source": [
    "df[\"Sales\"].median()"
   ]
  },
  {
   "cell_type": "code",
   "execution_count": 27,
   "id": "7caa0df6-e6db-4d63-b043-35c7cb87d50c",
   "metadata": {},
   "outputs": [
    {
     "data": {
      "text/plain": [
       "sum       1500.000000\n",
       "mean       187.500000\n",
       "median     190.000000\n",
       "min        100.000000\n",
       "count        8.000000\n",
       "std         66.062741\n",
       "Name: Sales, dtype: float64"
      ]
     },
     "execution_count": 27,
     "metadata": {},
     "output_type": "execute_result"
    }
   ],
   "source": [
    "df[\"Sales\"].agg([\"sum\",\"mean\",\"median\",\"min\",\"count\",\"std\"])"
   ]
  },
  {
   "cell_type": "code",
   "execution_count": null,
   "id": "936f10da-5d39-4640-87ad-050ffef2d1cd",
   "metadata": {},
   "outputs": [],
   "source": []
  },
  {
   "cell_type": "code",
   "execution_count": null,
   "id": "3e7cebca-2b0a-4ea9-b56f-c99aac7c4b2e",
   "metadata": {},
   "outputs": [],
   "source": []
  },
  {
   "cell_type": "code",
   "execution_count": null,
   "id": "8a6343d3-27ac-4e6c-8b38-e69b3476c340",
   "metadata": {},
   "outputs": [],
   "source": []
  }
 ],
 "metadata": {
  "kernelspec": {
   "display_name": "Python [conda env:base] *",
   "language": "python",
   "name": "conda-base-py"
  },
  "language_info": {
   "codemirror_mode": {
    "name": "ipython",
    "version": 3
   },
   "file_extension": ".py",
   "mimetype": "text/x-python",
   "name": "python",
   "nbconvert_exporter": "python",
   "pygments_lexer": "ipython3",
   "version": "3.12.7"
  }
 },
 "nbformat": 4,
 "nbformat_minor": 5
}
